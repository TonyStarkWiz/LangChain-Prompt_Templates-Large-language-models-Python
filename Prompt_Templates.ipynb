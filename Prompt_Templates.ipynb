{
 "cells": [
  {
   "cell_type": "code",
   "execution_count": 33,
   "id": "9967df78-5de7-4d96-8552-f2932b5fd097",
   "metadata": {},
   "outputs": [],
   "source": [
    "from langchain.llms import OpenAI\n",
    "from langchain.chat_models import ChatOpenAI"
   ]
  },
  {
   "cell_type": "code",
   "execution_count": 9,
   "id": "edd22a65-8d50-408d-8b93-99100bb80f82",
   "metadata": {},
   "outputs": [],
   "source": [
    "f = open(r'C:\\Users\\antho\\OneDrive\\Documents\\api_jupyter.txt') \n",
    "api_key = f.read()"
   ]
  },
  {
   "cell_type": "code",
   "execution_count": 4,
   "id": "fd7da7b5-bce2-4b11-a349-a7d45c67e0fc",
   "metadata": {},
   "outputs": [],
   "source": [
    "llm = OpenAI(openai_api_key=api_key)"
   ]
  },
  {
   "cell_type": "code",
   "execution_count": 6,
   "id": "dc07a34c-a943-451b-9e34-8ed7cb5ea579",
   "metadata": {},
   "outputs": [
    {
     "data": {
      "text/plain": [
       "'\\n\\nVenus is the second planet from the Sun and is the hottest planet in our solar system, with surface temperatures reaching over 860°F (460°C).'"
      ]
     },
     "execution_count": 6,
     "metadata": {},
     "output_type": "execute_result"
    }
   ],
   "source": [
    "# LLM\n",
    "planet = 'Venus'\n",
    "llm(f'Here is a fact about {planet}:')"
   ]
  },
  {
   "cell_type": "code",
   "execution_count": 7,
   "id": "553f7201-6c1c-44aa-914a-a50e2ff6bbbc",
   "metadata": {},
   "outputs": [],
   "source": [
    "from langchain import PromptTemplate"
   ]
  },
  {
   "cell_type": "code",
   "execution_count": 8,
   "id": "0cb8394c-0c95-4736-81d7-fdc58f09b539",
   "metadata": {},
   "outputs": [],
   "source": [
    "no_input_prompt = PromptTemplate(input_variables=[],\n",
    "                                 template='Tell me a fact')"
   ]
  },
  {
   "cell_type": "code",
   "execution_count": 10,
   "id": "c973259d-c966-4a08-b0ea-11e86b8fc3bb",
   "metadata": {},
   "outputs": [
    {
     "data": {
      "text/plain": [
       "'\\n\\nThe average human body contains enough sulfur to kill all the fleas on an average-sized dog.'"
      ]
     },
     "execution_count": 10,
     "metadata": {},
     "output_type": "execute_result"
    }
   ],
   "source": [
    "llm(no_input_prompt.format())"
   ]
  },
  {
   "cell_type": "code",
   "execution_count": 11,
   "id": "cf2d4b6c-08e3-42a8-a766-72eaae7c15d4",
   "metadata": {},
   "outputs": [],
   "source": [
    "single_input_prompt = PromptTemplate(input_variables=[\"topic\"],\n",
    "                                 template='Tell me a fact about {topic}')"
   ]
  },
  {
   "cell_type": "code",
   "execution_count": 12,
   "id": "7a92d290-8dc4-4375-af48-0ea4a10b8763",
   "metadata": {},
   "outputs": [
    {
     "data": {
      "text/plain": [
       "\"\\n\\nThe Pacific Ocean is the largest ocean in the world and covers over 30% of the Earth's surface.\""
      ]
     },
     "execution_count": 12,
     "metadata": {},
     "output_type": "execute_result"
    }
   ],
   "source": [
    "llm(single_input_prompt.format(topic='the ocean'))"
   ]
  },
  {
   "cell_type": "code",
   "execution_count": 13,
   "id": "974c7ca8-ee8f-4c36-b938-b4db6d7b45d6",
   "metadata": {},
   "outputs": [],
   "source": [
    "multi_input_prompt = PromptTemplate(input_variables=[\"topic\", \"level\"],\n",
    "                                 template='Tell me a fact about {topic} for a {level} student')"
   ]
  },
  {
   "cell_type": "code",
   "execution_count": 14,
   "id": "46a8ba3d-576b-4553-ba8f-1c145a522136",
   "metadata": {},
   "outputs": [
    {
     "data": {
      "text/plain": [
       "\"\\n\\nThe ocean covers more than 70% of the Earth's surface and holds about 97% of the Earth's water!\""
      ]
     },
     "execution_count": 14,
     "metadata": {},
     "output_type": "execute_result"
    }
   ],
   "source": [
    "llm(multi_input_prompt.format(topic='the ocean',level='3rd grade'))"
   ]
  },
  {
   "cell_type": "code",
   "execution_count": 15,
   "id": "54e785a2-2013-4013-9d95-ade63582596f",
   "metadata": {},
   "outputs": [
    {
     "data": {
      "text/plain": [
       "'\\n\\nThe ocean covers over 70% of the Earth’s surface and is the primary source of life on the planet, providing over 50% of the oxygen we breathe. It is also home to an estimated 1 million species, many of which have yet to be discovered.'"
      ]
     },
     "execution_count": 15,
     "metadata": {},
     "output_type": "execute_result"
    }
   ],
   "source": [
    "llm(multi_input_prompt.format(topic='the ocean',level='PhD level'))"
   ]
  },
  {
   "cell_type": "code",
   "execution_count": 2,
   "id": "1d1d943a-5050-47e2-8390-73a9f22e86db",
   "metadata": {},
   "outputs": [],
   "source": [
    "from langchain.prompts import ChatPromptTemplate,PromptTemplate,SystemMessagePromptTemplate,AIMessagePromptTemplate,HumanMessagePromptTemplate"
   ]
  },
  {
   "cell_type": "code",
   "execution_count": 3,
   "id": "c7c26047-f24b-48e5-96ec-393581b41984",
   "metadata": {},
   "outputs": [],
   "source": [
    "from langchain.schema import AIMessage, HumanMessage, SystemMessage"
   ]
  },
  {
   "cell_type": "code",
   "execution_count": 5,
   "id": "db80075e-f8b2-4f60-bb60-e12480b3b081",
   "metadata": {},
   "outputs": [],
   "source": [
    "system_template = \"You are an AI recipe assistant that specializes in {dietary_preference} dishes that can be prepared in {cooking_time}\""
   ]
  },
  {
   "cell_type": "code",
   "execution_count": 6,
   "id": "1d7b7c15-f51a-4961-aa3a-8dc569c2b24b",
   "metadata": {},
   "outputs": [],
   "source": [
    "system_message_prompt = SystemMessagePromptTemplate.from_template(system_template)"
   ]
  },
  {
   "cell_type": "code",
   "execution_count": 7,
   "id": "3a48ecb7-bb71-469d-bdf9-7cbb4264d7cf",
   "metadata": {},
   "outputs": [],
   "source": [
    "human_template=\"{recipe_request}\""
   ]
  },
  {
   "cell_type": "code",
   "execution_count": 8,
   "id": "8e17b487-5613-4a9b-9a0f-cefda0fd9470",
   "metadata": {},
   "outputs": [],
   "source": [
    "human_message_prompt = HumanMessagePromptTemplate.from_template(human_template)"
   ]
  },
  {
   "cell_type": "code",
   "execution_count": 9,
   "id": "789ab361-bd03-4547-ae71-65d53c68bd04",
   "metadata": {},
   "outputs": [
    {
     "data": {
      "text/plain": [
       "['cooking_time', 'dietary_preference']"
      ]
     },
     "execution_count": 9,
     "metadata": {},
     "output_type": "execute_result"
    }
   ],
   "source": [
    "system_message_prompt.input_variables"
   ]
  },
  {
   "cell_type": "code",
   "execution_count": 10,
   "id": "0c1b36a3-2c9e-44e5-a2e4-abfad4b66374",
   "metadata": {},
   "outputs": [
    {
     "data": {
      "text/plain": [
       "['recipe_request']"
      ]
     },
     "execution_count": 10,
     "metadata": {},
     "output_type": "execute_result"
    }
   ],
   "source": [
    "human_message_prompt.input_variables"
   ]
  },
  {
   "cell_type": "code",
   "execution_count": 11,
   "id": "f2f5785a-4dee-4014-a17a-ad7c8acb1bd5",
   "metadata": {},
   "outputs": [],
   "source": [
    "chat_prompt = ChatPromptTemplate.from_messages([system_message_prompt,human_message_prompt])"
   ]
  },
  {
   "cell_type": "code",
   "execution_count": 12,
   "id": "daaa845a-beb9-4a5d-b334-da007edee2ed",
   "metadata": {},
   "outputs": [
    {
     "data": {
      "text/plain": [
       "['cooking_time', 'dietary_preference', 'recipe_request']"
      ]
     },
     "execution_count": 12,
     "metadata": {},
     "output_type": "execute_result"
    }
   ],
   "source": [
    "chat_prompt.input_variables"
   ]
  },
  {
   "cell_type": "code",
   "execution_count": 15,
   "id": "f50246bd-fc6e-4f1b-aba6-9404cf0cef8a",
   "metadata": {},
   "outputs": [],
   "source": [
    "prompt = chat_prompt.format_prompt(cooking_time='60 min',\n",
    "                          recipe_request='Quick Snake',\n",
    "                          dietary_preference='Vegan').to_messages()"
   ]
  },
  {
   "cell_type": "code",
   "execution_count": 18,
   "id": "ed82d2e5-537e-4899-8878-2a8678248505",
   "metadata": {},
   "outputs": [
    {
     "name": "stdout",
     "output_type": "stream",
     "text": [
      "[SystemMessage(content='You are an AI recipe assistant that specializes in Vegan dishes that can be prepared in 60 min'), HumanMessage(content='Quick Snake')]\n"
     ]
    }
   ],
   "source": [
    "print(prompt)"
   ]
  },
  {
   "cell_type": "code",
   "execution_count": 23,
   "id": "6e3066c6-45d7-48f9-9ef1-9d260461d02a",
   "metadata": {},
   "outputs": [],
   "source": [
    "import openai\n",
    "\n",
    "# Read API key from a file\n",
    "with open(r'C:\\Users\\antho\\OneDrive\\Documents\\api_jupyter.txt', 'r') as file:\n",
    "    api_key = file.read().strip()\n",
    "\n",
    "# Set the API key\n",
    "openai.api_key = api_key\n",
    "\n",
    "# Rest of your code here\n"
   ]
  },
  {
   "cell_type": "code",
   "execution_count": 28,
   "id": "862c87a7-9f30-4c45-a852-b771db38e627",
   "metadata": {},
   "outputs": [
    {
     "name": "stdout",
     "output_type": "stream",
     "text": [
      "What specific information do you need assistance with?\n"
     ]
    }
   ],
   "source": [
    "from openai import ChatCompletion\n",
    "\n",
    "# Define the conversation as a list of messages\n",
    "messages = [\n",
    "    {\"role\": \"system\", \"content\": \"You are a helpful assistant.\"},\n",
    "    {\"role\": \"user\", \"content\": \"Test input\"}\n",
    "]\n",
    "\n",
    "# Create a chat model instance\n",
    "chat_model = ChatCompletion.create(\n",
    "    model=\"gpt-3.5-turbo\",\n",
    "    messages=messages\n",
    ")\n",
    "\n",
    "# Extract the response from the model's choices\n",
    "# Assuming chat_model.choices[0].message is a dictionary\n",
    "response_content = chat_model.choices[0].message['content']\n",
    "\n",
    "# Assuming chat_model.choices[0].message['content'] is a string\n",
    "content_text = chat_model.choices[0].message['content']\n",
    "\n",
    "# Print the entire message content\n",
    "print(content_text)\n",
    "\n",
    "result = \"\"\n",
    "\n",
    "\n"
   ]
  },
  {
   "cell_type": "code",
   "execution_count": 31,
   "id": "8264ae74-dc59-47b5-9628-17497fcf8b8a",
   "metadata": {},
   "outputs": [
    {
     "name": "stdout",
     "output_type": "stream",
     "text": [
      "What do you need assistance with?\n"
     ]
    }
   ],
   "source": [
    "import openai\n",
    "\n",
    "# Load your API key from a file\n",
    "with open(r'C:\\Users\\antho\\OneDrive\\Documents\\api_jupyter.txt', 'r') as file:\n",
    "    api_key = file.read().strip()\n",
    "\n",
    "# Set your API key\n",
    "openai.api_key = api_key\n",
    "\n",
    "# Define the messages for the chat model\n",
    "messages = [\n",
    "    {\"role\": \"system\", \"content\": \"You are a helpful assistant.\"},\n",
    "    {\"role\": \"user\", \"content\": \"Test input\"}\n",
    "]\n",
    "\n",
    "# Use the built-in chat function\n",
    "response = openai.ChatCompletion.create(\n",
    "    model=\"gpt-3.5-turbo\",\n",
    "    messages=messages\n",
    ")\n",
    "\n",
    "# Extract the response from the model's choices\n",
    "response_content = response.choices[0].message['content']\n",
    "\n",
    "# Print the response content\n",
    "print(response_content)\n"
   ]
  },
  {
   "cell_type": "code",
   "execution_count": null,
   "id": "893c9386-8443-4326-b282-33ff3c465c01",
   "metadata": {},
   "outputs": [],
   "source": [
    "prompt = chat_prompt.format_prompt(cooking_time='60 min',\n",
    "                          recipe_request='Quick Snake',\n",
    "                          dietary_preference='Vegan').to_messages()"
   ]
  },
  {
   "cell_type": "code",
   "execution_count": null,
   "id": "d5c6e021-f4f7-4701-9115-d446e074dd03",
   "metadata": {},
   "outputs": [],
   "source": [
    "result = chat(prompt)"
   ]
  },
  {
   "cell_type": "code",
   "execution_count": 37,
   "id": "b0692b05-29b6-4d7d-8c8c-eba63c5b85c8",
   "metadata": {},
   "outputs": [],
   "source": [
    "chat = ChatOpenAI(openai_api_key=api_key)"
   ]
  },
  {
   "cell_type": "code",
   "execution_count": 38,
   "id": "aefcbb9e-58c1-4773-8e32-3cb3fd9362c0",
   "metadata": {},
   "outputs": [],
   "source": [
    "prompt = chat_prompt.format_prompt(cooking_time='60 min',\n",
    "                          recipe_request='Quick Snake',\n",
    "                          dietary_preference='Vegan').to_messages()"
   ]
  },
  {
   "cell_type": "code",
   "execution_count": 39,
   "id": "ed2b679d-5487-4827-94b3-1ce446b797c7",
   "metadata": {},
   "outputs": [],
   "source": [
    "result = chat(prompt)"
   ]
  },
  {
   "cell_type": "code",
   "execution_count": 40,
   "id": "6edb4c09-9d78-4894-89b9-8d6cc5b87e22",
   "metadata": {},
   "outputs": [
    {
     "name": "stdout",
     "output_type": "stream",
     "text": [
      "I'm sorry, but I don't have any recipes for snake meat as it is not a common ingredient in vegan cooking. However, if you are looking for a quick vegan recipe that can be prepared in 60 minutes, I can suggest a delicious option like Vegan Chickpea Curry. Here's a recipe for you:\n",
      "\n",
      "Ingredients:\n",
      "- 1 tablespoon coconut oil\n",
      "- 1 onion, diced\n",
      "- 2 cloves of garlic, minced\n",
      "- 1 tablespoon ginger, grated\n",
      "- 1 teaspoon cumin\n",
      "- 1 teaspoon coriander\n",
      "- 1 teaspoon turmeric\n",
      "- 1 teaspoon paprika\n",
      "- 1 teaspoon garam masala\n",
      "- 1 can (400g) diced tomatoes\n",
      "- 1 can (400g) coconut milk\n",
      "- 1 can (400g) chickpeas, drained and rinsed\n",
      "- 2 cups spinach\n",
      "- Salt and pepper, to taste\n",
      "- Fresh cilantro, for garnish\n",
      "- Cooked rice or naan bread, for serving\n",
      "\n",
      "Instructions:\n",
      "1. Heat the coconut oil in a large pan over medium heat. Add the diced onion and cook until it becomes translucent, about 5 minutes.\n",
      "2. Add the minced garlic and grated ginger to the pan and cook for another 2 minutes.\n",
      "3. Stir in the cumin, coriander, turmeric, paprika, and garam masala. Cook for 1 minute to toast the spices.\n",
      "4. Pour in the diced tomatoes and coconut milk. Stir well to combine all the ingredients.\n",
      "5. Add the drained and rinsed chickpeas to the pan. Bring the mixture to a simmer and let it cook for 15-20 minutes, allowing the flavors to meld together.\n",
      "6. Stir in the spinach and cook until wilted, about 2-3 minutes.\n",
      "7. Season with salt and pepper according to your taste.\n",
      "8. Serve the vegan chickpea curry over cooked rice or with naan bread.\n",
      "9. Garnish with fresh cilantro before serving.\n",
      "\n",
      "Enjoy your delicious Vegan Chickpea Curry!\n"
     ]
    }
   ],
   "source": [
    "print(result.content)"
   ]
  },
  {
   "cell_type": "code",
   "execution_count": null,
   "id": "5b7b9753-d82e-4c12-8662-4ef0f25bfa75",
   "metadata": {},
   "outputs": [],
   "source": []
  }
 ],
 "metadata": {
  "kernelspec": {
   "display_name": "Python 3 (ipykernel)",
   "language": "python",
   "name": "python3"
  },
  "language_info": {
   "codemirror_mode": {
    "name": "ipython",
    "version": 3
   },
   "file_extension": ".py",
   "mimetype": "text/x-python",
   "name": "python",
   "nbconvert_exporter": "python",
   "pygments_lexer": "ipython3",
   "version": "3.11.5"
  }
 },
 "nbformat": 4,
 "nbformat_minor": 5
}
